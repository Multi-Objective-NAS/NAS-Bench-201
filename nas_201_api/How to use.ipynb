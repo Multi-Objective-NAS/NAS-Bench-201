{
 "cells": [
  {
   "cell_type": "code",
   "execution_count": null,
   "metadata": {},
   "outputs": [],
   "source": [
    "# magic command %memit 를 사용하기 위해 필요한 라이브러리, \n",
    "import memory_profiler \n",
    "%load_ext memory_profiler\n",
    "########################\n",
    "# ipython_memory를 사용하여 cell별로 메모리를 계속 관찰하기 위한 라이브러리. \n",
    "import ipython_memory_usage \n",
    "import ipython_memory_usage.ipython_memory_usage as imu\n",
    "%ipython_memory_usage_start\n",
    "\n",
    "# memory watching start \n",
    "imu.start_watching_memory()"
   ]
  },
  {
   "cell_type": "code",
   "execution_count": null,
   "metadata": {},
   "outputs": [],
   "source": [
    "import os, sys\n",
    "\n",
    "sys.path.append('/home/dzzp/workspace/minyoung/self-supervised-nas/libs/SemiNAS/nasbench')\n",
    "sys.path.append('/home/dzzp/workspace/minyoung/self-supervised-nas/libs/NAS-Bench-201/nas_201_api')\n",
    "sys.path.append('/home/dzzp/workspace/minyoung/self-supervised-nas/libs/nasbench')"
   ]
  },
  {
   "cell_type": "code",
   "execution_count": null,
   "metadata": {},
   "outputs": [],
   "source": [
    "from nas_201_api import NASBench201API as API\n",
    "import model_spec_201\n",
    "\n",
    "dir_path = '/home/dzzp/workspace/dataset/'\n",
    "nasbench201 = API(dir_path + 'NAS-Bench-201-v1_1-096897.pth')"
   ]
  },
  {
   "cell_type": "code",
   "execution_count": null,
   "metadata": {},
   "outputs": [],
   "source": [
    "from nasbench import api\n",
    "from nasbench.lib import model_spec\n",
    "# Use nasbench_full.tfrecord for full dataset (run download command above).\n",
    "nasbench101 = api.NASBench(dir_path + 'nasbench_only108.tfrecord')"
   ]
  },
  {
   "cell_type": "code",
   "execution_count": null,
   "metadata": {},
   "outputs": [],
   "source": [
    "# query_option\n",
    "\n",
    "arch = model_spec_201.get_modelspec(matrix= , ops= ) # if invalid, return false ; else return ModelSpec\n",
    "nasbench201.query_option(arch=arch, dataset = 'cifar10-valid', option='valid') # return random sample\n",
    "nasbench201.query_option(arch=arch, dataset = 'cifar10-valid', option='test') # return average of 3 samples\n",
    "\n",
    "arch = model_spec.get_modelspec(matrix= , ops= ) # if invalid, return false ; else return ModelSpec\n",
    "nasbench101.query_option(arch=arch, dataset = 'Not use in the func', option='valid') # return random sample\n",
    "nasbench201.query_option(arch=arch, dataset = 'cifar10-valid', option='test') # return average of 3 samples"
   ]
  },
  {
   "cell_type": "code",
   "execution_count": null,
   "metadata": {},
   "outputs": [],
   "source": [
    "# get budget counters\n",
    "\n",
    "nasbench201.get_budget_counters() # return training time spent\n",
    "nasbench101.get_budget_counters() # return training time spent & total epochs spent"
   ]
  },
  {
   "cell_type": "code",
   "execution_count": null,
   "metadata": {},
   "outputs": [],
   "source": [
    "# hash_iterator\n",
    "# get model spec by hash\n",
    "\n",
    "nasbench201.hash_iterator() # possible to iterate all archs\n",
    "arch = nasbench201.get_model_spec_by_hash(key)\n",
    "\n",
    "nasbench101.hash_iterator() # possible to iterate all archs\n",
    "arch = nasbench101.get_model_spec_by_hash(key)"
   ]
  },
  {
   "cell_type": "markdown",
   "metadata": {},
   "source": [
    "modelspec has self.matrix & self.ops\n",
    "\n",
    "Additionally, nasbench201 modelspec has self.index, self.model_str"
   ]
  }
 ],
 "metadata": {
  "kernelspec": {
   "display_name": "Python 3",
   "language": "python",
   "name": "python3"
  },
  "language_info": {
   "codemirror_mode": {
    "name": "ipython",
    "version": 3
   },
   "file_extension": ".py",
   "mimetype": "text/x-python",
   "name": "python",
   "nbconvert_exporter": "python",
   "pygments_lexer": "ipython3",
   "version": "3.6.10"
  }
 },
 "nbformat": 4,
 "nbformat_minor": 4
}
