{
 "cells": [
  {
   "cell_type": "code",
   "execution_count": 1,
   "metadata": {},
   "outputs": [
    {
     "name": "stdout",
     "output_type": "stream",
     "text": [
      "In [1] used 0.0000 MiB RAM in 0.10s, peaked 0.00 MiB above current, total RAM usage 50.80 MiB\n"
     ]
    }
   ],
   "source": [
    "# magic command %memit 를 사용하기 위해 필요한 라이브러리, \n",
    "import memory_profiler \n",
    "%load_ext memory_profiler\n",
    "########################\n",
    "# ipython_memory를 사용하여 cell별로 메모리를 계속 관찰하기 위한 라이브러리. \n",
    "import ipython_memory_usage \n",
    "import ipython_memory_usage.ipython_memory_usage as imu\n",
    "%ipython_memory_usage_start\n",
    "\n",
    "# memory watching start \n",
    "imu.start_watching_memory()"
   ]
  },
  {
   "cell_type": "code",
   "execution_count": 1,
   "metadata": {},
   "outputs": [],
   "source": [
    "import os, sys\n",
    "\n",
    "sys.path.append('/home/dzzp/workspace/minyoung/self-supervised-nas/libs/SemiNAS/nasbench')\n",
    "sys.path.append('/home/dzzp/workspace/minyoung/self-supervised-nas/libs/NAS-Bench-201/nas_201_api')\n",
    "sys.path.append('/home/dzzp/workspace/minyoung/self-supervised-nas/libs/nasbench')"
   ]
  },
  {
   "cell_type": "markdown",
   "metadata": {},
   "source": [
    "# Only use below functions:\n",
    "\n",
    "### query valid acc / test acc\n",
    "\n",
    "NASBENCH201 :\n",
    "    \n",
    "* arch = model_spec_201.get_modelspec(matrix= , ops= ) # if invalid, return false ; else return ModelSpec\n",
    "\n",
    "* nasbench201.query_option(arch=arch, dataset = 'cifar10-valid', option='valid') # return random sample\n",
    "\n",
    "* nasbench201.query_option(arch=arch, dataset = 'cifar10-valid', option='test') # return average of 3 samples\n",
    "\n",
    "NASBENCH101 :\n",
    "\n",
    "* arch = model_spec.get_modelspec(matrix= , ops= ) # if invalid, return false ; else return ModelSpec\n",
    "\n",
    "* nasbench101.query_option(modelspec=arch, dataset = 'Not use in the func', option='valid') # return random sample\n",
    "\n",
    "* nasbench101.query_option(modelspec=arch, dataset = 'cifar10-valid', option='test') # return average of 3 samples\n",
    "\n",
    "\n",
    "### get budget counters\n",
    "\n",
    "nasbench201.get_budget_counters() # return training time spent\n",
    "\n",
    "nasbench101.get_budget_counters() # return training time spent & total epochs spent\n",
    "\n",
    "\n",
    "### hash iterator & get modelspec by hash\n",
    "\n",
    "nasbench201.hash_iterator() # possible to iterate all archs\n",
    "\n",
    "arch = nasbench201.get_model_spec_by_hash(key)\n",
    "\n",
    "nasbench101.hash_iterator() # possible to iterate all archs\n",
    "\n",
    "arch = nasbench101.get_model_spec_by_hash(key)"
   ]
  },
  {
   "cell_type": "markdown",
   "metadata": {},
   "source": [
    "### NAS BENCH 201"
   ]
  },
  {
   "cell_type": "code",
   "execution_count": 3,
   "metadata": {},
   "outputs": [
    {
     "name": "stdout",
     "output_type": "stream",
     "text": [
      "try to create the NAS-Bench-201 api from /home/dzzp/workspace/dataset/NAS-Bench-201-v1_1-096897.pth\n",
      "In [3] used 24775.7539 MiB RAM in 44.52s, peaked 940.48 MiB above current, total RAM usage 24826.63 MiB\n"
     ]
    }
   ],
   "source": [
    "from nas_201_api import NASBench201API as API\n",
    "import model_spec_201\n",
    "\n",
    "dir_path = '/home/dzzp/workspace/dataset/'\n",
    "nasbench201 = API(dir_path + 'NAS-Bench-201-v1_1-096897.pth')"
   ]
  },
  {
   "cell_type": "code",
   "execution_count": 32,
   "metadata": {},
   "outputs": [
    {
     "name": "stdout",
     "output_type": "stream",
     "text": [
      "[ae8946f74707371c17ad123f46396630]\n",
      "|skip_connect~0|+|nor_conv_1x1~0|skip_connect~1|+|skip_connect~0|nor_conv_3x3~1|nor_conv_3x3~2|\n",
      "[[0. 1. 1. 0. 1. 0. 0. 0.]\n",
      " [0. 0. 0. 1. 0. 1. 0. 0.]\n",
      " [0. 0. 0. 0. 0. 0. 1. 0.]\n",
      " [0. 0. 0. 0. 0. 0. 1. 0.]\n",
      " [0. 0. 0. 0. 0. 0. 0. 1.]\n",
      " [0. 0. 0. 0. 0. 0. 0. 1.]\n",
      " [0. 0. 0. 0. 0. 0. 0. 1.]\n",
      " [0. 0. 0. 0. 0. 0. 0. 0.]]\n",
      "['input', 'skip_connect', 'nor_conv_1x1', 'skip_connect', 'skip_connect', 'nor_conv_3x3', 'nor_conv_3x3', 'output']\n",
      "val_acc : 82.16399998046874\n",
      "test_acc : 81.85\n",
      "--------------------------------------------------------\n",
      "[e4a155d23839633e1af8e8f5b0430f2f]\n",
      "|skip_connect~0|+|skip_connect~0|none~1|+|none~0|nor_conv_1x1~1|nor_conv_1x1~2|\n",
      "[[0. 1. 1. 0. 0. 0.]\n",
      " [0. 0. 0. 1. 0. 0.]\n",
      " [0. 0. 0. 0. 1. 0.]\n",
      " [0. 0. 0. 0. 0. 1.]\n",
      " [0. 0. 0. 0. 0. 1.]\n",
      " [0. 0. 0. 0. 0. 0.]]\n",
      "['input', 'skip_connect', 'skip_connect', 'nor_conv_1x1', 'nor_conv_1x1', 'output']\n",
      "val_acc : 73.20799999267578\n",
      "test_acc : 72.41499999999999\n",
      "--------------------------------------------------------\n",
      "[2ffcbdcf6abed8f127d93ab1101e1267]\n",
      "|nor_conv_3x3~0|+|skip_connect~0|skip_connect~1|+|nor_conv_3x3~0|none~1|skip_connect~2|\n",
      "[[0. 1. 1. 0. 1. 0. 0.]\n",
      " [0. 0. 0. 1. 0. 0. 0.]\n",
      " [0. 0. 0. 0. 0. 1. 0.]\n",
      " [0. 0. 0. 0. 0. 1. 0.]\n",
      " [0. 0. 0. 0. 0. 0. 1.]\n",
      " [0. 0. 0. 0. 0. 0. 1.]\n",
      " [0. 0. 0. 0. 0. 0. 0.]]\n",
      "['input', 'nor_conv_3x3', 'skip_connect', 'skip_connect', 'nor_conv_3x3', 'skip_connect', 'output']\n",
      "val_acc : 81.41600001464843\n",
      "test_acc : 81.395\n",
      "--------------------------------------------------------\n"
     ]
    }
   ],
   "source": [
    "for i in range(3):\n",
    "    hash_val = random.choice(list(nasbench201.hash_iterator()))\n",
    "    arch = nasbench201.get_model_spec_by_hash(hash_val)\n",
    "    print(\"[\"+str(hash_val)+\"]\")\n",
    "    print(arch.model_str)\n",
    "    print(arch.matrix)\n",
    "    print(arch.ops)\n",
    "    \n",
    "    val_acc = nasbench201.query_option(modelspec=arch, dataset = 'cifar10-valid', option='valid') # return random sample\n",
    "    test_acc = nasbench201.query_option(modelspec=arch, dataset = 'cifar10-valid', option='test') # return average of 3 samples\n",
    "    print(\"val_acc :\", val_acc)\n",
    "    print(\"test_acc :\", test_acc)\n",
    "    \n",
    "    print('--------------------------------------------------------')"
   ]
  },
  {
   "cell_type": "markdown",
   "metadata": {},
   "source": [
    "### NAS BENCH 101"
   ]
  },
  {
   "cell_type": "code",
   "execution_count": 2,
   "metadata": {
    "scrolled": true
   },
   "outputs": [
    {
     "name": "stderr",
     "output_type": "stream",
     "text": [
      "/home/dzzp/anaconda3/envs/jupyter-3.6/lib/python3.6/site-packages/tensorflow/python/framework/dtypes.py:526: FutureWarning: Passing (type, 1) or '1type' as a synonym of type is deprecated; in a future version of numpy, it will be understood as (type, (1,)) / '(1,)type'.\n",
      "  _np_qint8 = np.dtype([(\"qint8\", np.int8, 1)])\n",
      "/home/dzzp/anaconda3/envs/jupyter-3.6/lib/python3.6/site-packages/tensorflow/python/framework/dtypes.py:527: FutureWarning: Passing (type, 1) or '1type' as a synonym of type is deprecated; in a future version of numpy, it will be understood as (type, (1,)) / '(1,)type'.\n",
      "  _np_quint8 = np.dtype([(\"quint8\", np.uint8, 1)])\n",
      "/home/dzzp/anaconda3/envs/jupyter-3.6/lib/python3.6/site-packages/tensorflow/python/framework/dtypes.py:528: FutureWarning: Passing (type, 1) or '1type' as a synonym of type is deprecated; in a future version of numpy, it will be understood as (type, (1,)) / '(1,)type'.\n",
      "  _np_qint16 = np.dtype([(\"qint16\", np.int16, 1)])\n",
      "/home/dzzp/anaconda3/envs/jupyter-3.6/lib/python3.6/site-packages/tensorflow/python/framework/dtypes.py:529: FutureWarning: Passing (type, 1) or '1type' as a synonym of type is deprecated; in a future version of numpy, it will be understood as (type, (1,)) / '(1,)type'.\n",
      "  _np_quint16 = np.dtype([(\"quint16\", np.uint16, 1)])\n",
      "/home/dzzp/anaconda3/envs/jupyter-3.6/lib/python3.6/site-packages/tensorflow/python/framework/dtypes.py:530: FutureWarning: Passing (type, 1) or '1type' as a synonym of type is deprecated; in a future version of numpy, it will be understood as (type, (1,)) / '(1,)type'.\n",
      "  _np_qint32 = np.dtype([(\"qint32\", np.int32, 1)])\n",
      "/home/dzzp/anaconda3/envs/jupyter-3.6/lib/python3.6/site-packages/tensorflow/python/framework/dtypes.py:535: FutureWarning: Passing (type, 1) or '1type' as a synonym of type is deprecated; in a future version of numpy, it will be understood as (type, (1,)) / '(1,)type'.\n",
      "  np_resource = np.dtype([(\"resource\", np.ubyte, 1)])\n"
     ]
    },
    {
     "name": "stdout",
     "output_type": "stream",
     "text": [
      "Loading dataset from file... This may take a few minutes...\n",
      "WARNING:tensorflow:From /home/dzzp/workspace/minyoung/self-supervised-nas/libs/nasbench/nasbench/api.py:146: tf_record_iterator (from tensorflow.python.lib.io.tf_record) is deprecated and will be removed in a future version.\n",
      "Instructions for updating:\n",
      "Use eager execution and: \n",
      "`tf.data.TFRecordDataset(path)`\n",
      "Loaded dataset in 49 seconds\n"
     ]
    }
   ],
   "source": [
    "from nasbench import api\n",
    "from nasbench.lib import model_spec\n",
    "import random\n",
    "\n",
    "# Use nasbench_full.tfrecord for full dataset (run download command above).\n",
    "dir_path = '/home/dzzp/workspace/dataset/'\n",
    "nasbench101 = api.NASBench(dir_path + 'nasbench_only108.tfrecord')"
   ]
  },
  {
   "cell_type": "code",
   "execution_count": 3,
   "metadata": {},
   "outputs": [
    {
     "name": "stdout",
     "output_type": "stream",
     "text": [
      "[243d82e1bb16243bfec43c2005e4f7d5]\n",
      "[[0 1 0 0 0 0 0]\n",
      " [0 0 1 0 0 0 0]\n",
      " [0 0 0 1 0 0 1]\n",
      " [0 0 0 0 1 0 0]\n",
      " [0 0 0 0 0 1 1]\n",
      " [0 0 0 0 0 0 1]\n",
      " [0 0 0 0 0 0 0]]\n",
      "['input', 'conv1x1-bn-relu', 'conv3x3-bn-relu', 'maxpool3x3', 'conv1x1-bn-relu', 'conv3x3-bn-relu', 'output']\n",
      "val_acc : 0.9038461446762085\n",
      "test_acc : 0.8902911345163981\n",
      "--------------------------------------------------------\n",
      "[d640c07e9f942ff78d7de7a7b5d80796]\n",
      "[[0 1 0 0 0 0 0]\n",
      " [0 0 1 0 0 0 0]\n",
      " [0 0 0 1 1 0 1]\n",
      " [0 0 0 0 1 0 0]\n",
      " [0 0 0 0 0 1 1]\n",
      " [0 0 0 0 0 0 1]\n",
      " [0 0 0 0 0 0 0]]\n",
      "['input', 'conv3x3-bn-relu', 'conv1x1-bn-relu', 'conv3x3-bn-relu', 'maxpool3x3', 'maxpool3x3', 'output']\n",
      "val_acc : 0.8619791865348816\n",
      "test_acc : 0.8463207880655924\n",
      "--------------------------------------------------------\n",
      "[a40194da2ab50e061ef7baccb839a4aa]\n",
      "[[0 1 0 0 0 0 0]\n",
      " [0 0 1 0 1 0 0]\n",
      " [0 0 0 1 0 1 1]\n",
      " [0 0 0 0 0 0 1]\n",
      " [0 0 0 0 0 1 0]\n",
      " [0 0 0 0 0 0 1]\n",
      " [0 0 0 0 0 0 0]]\n",
      "['input', 'conv3x3-bn-relu', 'conv1x1-bn-relu', 'maxpool3x3', 'conv1x1-bn-relu', 'conv1x1-bn-relu', 'output']\n",
      "val_acc : 0.9108573794364929\n",
      "test_acc : 0.902877926826477\n",
      "--------------------------------------------------------\n"
     ]
    }
   ],
   "source": [
    "for i in range(3):\n",
    "    hash_val = random.choice(list(nasbench101.hash_iterator()))\n",
    "    arch = nasbench101.get_model_spec_by_hash(hash_val)\n",
    "    print(\"[\"+str(hash_val)+\"]\")\n",
    "    print(arch.matrix)\n",
    "    print(arch.ops)\n",
    "    \n",
    "    val_acc = nasbench101.query_option(modelspec=arch, dataset = 'cifar10-valid', option='valid') # return random sample\n",
    "    test_acc = nasbench101.query_option(modelspec=arch, dataset = 'cifar10-valid', option='test') # return average of 3 samples\n",
    "    print(\"val_acc :\", val_acc)\n",
    "    print(\"test_acc :\", test_acc)\n",
    "    \n",
    "    print('--------------------------------------------------------')"
   ]
  },
  {
   "cell_type": "code",
   "execution_count": null,
   "metadata": {},
   "outputs": [],
   "source": []
  }
 ],
 "metadata": {
  "kernelspec": {
   "display_name": "Python 3",
   "language": "python",
   "name": "python3"
  },
  "language_info": {
   "codemirror_mode": {
    "name": "ipython",
    "version": 3
   },
   "file_extension": ".py",
   "mimetype": "text/x-python",
   "name": "python",
   "nbconvert_exporter": "python",
   "pygments_lexer": "ipython3",
   "version": "3.6.10"
  }
 },
 "nbformat": 4,
 "nbformat_minor": 4
}
