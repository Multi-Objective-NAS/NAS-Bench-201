{
 "cells": [
  {
   "cell_type": "code",
   "execution_count": 1,
   "metadata": {},
   "outputs": [
    {
     "name": "stdout",
     "output_type": "stream",
     "text": [
      "In [1] used 0.0000 MiB RAM in 0.10s, peaked 0.00 MiB above current, total RAM usage 50.80 MiB\n"
     ]
    }
   ],
   "source": [
    "# magic command %memit 를 사용하기 위해 필요한 라이브러리, \n",
    "import memory_profiler \n",
    "%load_ext memory_profiler\n",
    "########################\n",
    "# ipython_memory를 사용하여 cell별로 메모리를 계속 관찰하기 위한 라이브러리. \n",
    "import ipython_memory_usage \n",
    "import ipython_memory_usage.ipython_memory_usage as imu\n",
    "%ipython_memory_usage_start\n",
    "\n",
    "# memory watching start \n",
    "imu.start_watching_memory()"
   ]
  },
  {
   "cell_type": "code",
   "execution_count": 2,
   "metadata": {},
   "outputs": [
    {
     "name": "stdout",
     "output_type": "stream",
     "text": [
      "In [2] used 0.0781 MiB RAM in 0.10s, peaked 0.00 MiB above current, total RAM usage 50.88 MiB\n"
     ]
    }
   ],
   "source": [
    "import os, sys\n",
    "\n",
    "sys.path.append('/home/dzzp/workspace/minyoung/self-supervised-nas/libs/SemiNAS/nasbench')\n",
    "sys.path.append('/home/dzzp/workspace/minyoung/self-supervised-nas/libs/NAS-Bench-201/nas_201_api')\n",
    "sys.path.append('/home/dzzp/workspace/minyoung/self-supervised-nas/libs/nasbench')"
   ]
  },
  {
   "cell_type": "code",
   "execution_count": 3,
   "metadata": {},
   "outputs": [
    {
     "name": "stdout",
     "output_type": "stream",
     "text": [
      "try to create the NAS-Bench-201 api from /home/dzzp/workspace/dataset/NAS-Bench-201-v1_1-096897.pth\n",
      "In [3] used 24775.7539 MiB RAM in 44.52s, peaked 940.48 MiB above current, total RAM usage 24826.63 MiB\n"
     ]
    }
   ],
   "source": [
    "from nas_201_api import NASBench201API as API\n",
    "import model_spec_201\n",
    "\n",
    "dir_path = '/home/dzzp/workspace/dataset/'\n",
    "nasbench201 = API(dir_path + 'NAS-Bench-201-v1_1-096897.pth')"
   ]
  },
  {
   "cell_type": "code",
   "execution_count": null,
   "metadata": {},
   "outputs": [],
   "source": [
    "from nasbench import api\n",
    "from nasbench.lib import model_spec\n",
    "# Use nasbench_full.tfrecord for full dataset (run download command above).\n",
    "nasbench101 = api.NASBench(dir_path + 'nasbench_only108.tfrecord')"
   ]
  },
  {
   "cell_type": "code",
   "execution_count": null,
   "metadata": {},
   "outputs": [],
   "source": [
    "# query_option\n",
    "\n",
    "arch = model_spec_201.get_modelspec(matrix= , ops= ) # if invalid, return false ; else return ModelSpec\n",
    "nasbench201.query_option(arch=arch, dataset = 'cifar10-valid', option='valid') # return random sample\n",
    "nasbench201.query_option(arch=arch, dataset = 'cifar10-valid', option='test') # return average of 3 samples\n",
    "\n",
    "arch = model_spec.get_modelspec(matrix= , ops= ) # if invalid, return false ; else return ModelSpec\n",
    "nasbench101.query_option(arch=arch, dataset = 'Not use in the func', option='valid') # return random sample\n",
    "nasbench201.query_option(arch=arch, dataset = 'cifar10-valid', option='test') # return average of 3 samples"
   ]
  },
  {
   "cell_type": "code",
   "execution_count": null,
   "metadata": {},
   "outputs": [],
   "source": [
    "# get budget counters\n",
    "\n",
    "nasbench201.get_budget_counters() # return training time spent\n",
    "nasbench101.get_budget_counters() # return training time spent & total epochs spent"
   ]
  },
  {
   "cell_type": "code",
   "execution_count": null,
   "metadata": {},
   "outputs": [],
   "source": [
    "# hash_iterator\n",
    "# get model spec by hash\n",
    "\n",
    "nasbench201.hash_iterator() # possible to iterate all archs\n",
    "arch = nasbench201.get_model_spec_by_hash(key)\n",
    "\n",
    "nasbench101.hash_iterator() # possible to iterate all archs\n",
    "arch = nasbench101.get_model_spec_by_hash(key)"
   ]
  },
  {
   "cell_type": "code",
   "execution_count": 1,
   "metadata": {},
   "outputs": [
    {
     "name": "stdout",
     "output_type": "stream",
     "text": [
      "{\n",
      "  \"shell_port\": 44641,\n",
      "  \"iopub_port\": 33471,\n",
      "  \"stdin_port\": 59619,\n",
      "  \"control_port\": 51849,\n",
      "  \"hb_port\": 40611,\n",
      "  \"ip\": \"127.0.0.1\",\n",
      "  \"key\": \"9c0726c7-12a371555c407d9d7b9694c0\",\n",
      "  \"transport\": \"tcp\",\n",
      "  \"signature_scheme\": \"hmac-sha256\",\n",
      "  \"kernel_name\": \"\"\n",
      "}\n",
      "\n",
      "Paste the above JSON into a file, and connect with:\n",
      "    $> jupyter <app> --existing <file>\n",
      "or, if you are local, you can connect with just:\n",
      "    $> jupyter <app> --existing kernel-e4b3c291-813d-47cd-bec7-0a0fb8f628ae.json\n",
      "or even just:\n",
      "    $> jupyter <app> --existing\n",
      "if this is the most recent Jupyter kernel you have started.\n"
     ]
    }
   ],
   "source": [
    "%connect_info"
   ]
  },
  {
   "cell_type": "markdown",
   "metadata": {},
   "source": [
    "modelspec has self.matrix & self.ops\n",
    "\n",
    "Additionally, nasbench201 modelspec has self.index, self.model_str"
   ]
  },
  {
   "cell_type": "markdown",
   "metadata": {},
   "source": [
    "#### 'less'\n",
    "\n",
    "'eval_names': ['x-valid', 'ori-test']\n",
    "\n",
    "'eval_acc1es' = { 'x-valid@0' ...}\n",
    "\n",
    "'eval_times' { 'x-valid@0' ...}\n",
    "\n",
    "'eval_losses' { 'x-valid@0' ...}\n",
    " \n",
    "'train_acc1es' { 0: ...}\n",
    "\n",
    "'train_acc5es' { 0: ...}\n",
    "\n",
    "'train_losses' { 0: ...} \n",
    "\n",
    "'train_times' OrderedDict([ (0, ~), (1, ~) ... ])\n",
    "\n",
    "loss 없애고 acc max, time sum 취하기\n",
    "\n",
    "---------------------------------------------------------\n",
    "\n"
   ]
  },
  {
   "cell_type": "markdown",
   "metadata": {},
   "source": [
    "#### 'full'\n",
    "\n",
    "'train_acc1es' = float\n",
    "\n",
    "'train_acc5es' = None\n",
    "\n",
    "'train_losses' = {0: ...}\n",
    "\n",
    "'train_times' = OrderedDict( ... )\n",
    "\n",
    "'eval_acc1es' = { 'x-valid@0' ...}\n",
    "\n",
    "'eval_times' { 'x-valid@0' ...}\n",
    "\n",
    "'eval_losses' { 'x-valid@0' ...}\n"
   ]
  }
 ],
 "metadata": {
  "kernelspec": {
   "display_name": "Python 3",
   "language": "python",
   "name": "python3"
  },
  "language_info": {
   "codemirror_mode": {
    "name": "ipython",
    "version": 3
   },
   "file_extension": ".py",
   "mimetype": "text/x-python",
   "name": "python",
   "nbconvert_exporter": "python",
   "pygments_lexer": "ipython3",
   "version": "3.6.10"
  }
 },
 "nbformat": 4,
 "nbformat_minor": 4
}
